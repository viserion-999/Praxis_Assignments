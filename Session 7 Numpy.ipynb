{
 "cells": [
  {
   "cell_type": "markdown",
   "metadata": {},
   "source": [
    "# Session 7 Assigment : Numpy\n",
    "\n",
    "\n",
    "\n",
    "Anagha Karanam\n",
    "\n",
    "PGPDS - Jan2019\n",
    "\n",
    "C19002"
   ]
  },
  {
   "cell_type": "markdown",
   "metadata": {},
   "source": [
    "##  Array Basics Review"
   ]
  },
  {
   "cell_type": "code",
   "execution_count": 1,
   "metadata": {},
   "outputs": [],
   "source": [
    "import numpy as np"
   ]
  },
  {
   "cell_type": "code",
   "execution_count": 5,
   "metadata": {},
   "outputs": [
    {
     "name": "stdout",
     "output_type": "stream",
     "text": [
      "data type of the array a is: int64\n",
      "Data type of the array b is: float64\n",
      "\n",
      "\n",
      "C array is: \n",
      " [[1.+0.j 2.+0.j]\n",
      " [3.+0.j 4.+0.j]]\n"
     ]
    }
   ],
   "source": [
    "a = np.array([2,3,4])\n",
    "print(\"data type of the array a is:\",a.dtype)\n",
    "b = np.array([1.2, 3.5, 5.1])\n",
    "print(\"Data type of the array b is:\",b.dtype)\n",
    "print(\"\\n\")\n",
    "# a = np.array(1,2,3,4) #Wrong way to mention an array\n",
    "#setting the data type of the array using dtype parameter\n",
    "c = np.array( [ [1,2], [3,4] ], dtype=complex )\n",
    "print(\"C array is: \\n\",c)"
   ]
  },
  {
   "cell_type": "code",
   "execution_count": 9,
   "metadata": {},
   "outputs": [
    {
     "data": {
      "text/plain": [
       "array([[0., 0., 0., 0.],\n",
       "       [0., 0., 0., 0.],\n",
       "       [0., 0., 0., 0.]])"
      ]
     },
     "execution_count": 9,
     "metadata": {},
     "output_type": "execute_result"
    }
   ],
   "source": [
    "a= np.zeros( (3,4) ) #Creates an array with zeroes\n",
    "a\n"
   ]
  },
  {
   "cell_type": "code",
   "execution_count": 10,
   "metadata": {},
   "outputs": [
    {
     "data": {
      "text/plain": [
       "array([[[1, 1, 1, 1],\n",
       "        [1, 1, 1, 1],\n",
       "        [1, 1, 1, 1]],\n",
       "\n",
       "       [[1, 1, 1, 1],\n",
       "        [1, 1, 1, 1],\n",
       "        [1, 1, 1, 1]]], dtype=int16)"
      ]
     },
     "execution_count": 10,
     "metadata": {},
     "output_type": "execute_result"
    }
   ],
   "source": [
    "np.ones( (2,3,4), dtype=np.int16 ) #3d array of ones."
   ]
  },
  {
   "cell_type": "code",
   "execution_count": 16,
   "metadata": {},
   "outputs": [
    {
     "data": {
      "text/plain": [
       "array([[0., 0., 0.],\n",
       "       [0., 0., 0.]])"
      ]
     },
     "execution_count": 16,
     "metadata": {},
     "output_type": "execute_result"
    }
   ],
   "source": [
    "x= np.empty( (2,3) ) #empty array filled with garbage values\n",
    "x"
   ]
  },
  {
   "cell_type": "code",
   "execution_count": 18,
   "metadata": {},
   "outputs": [
    {
     "name": "stdout",
     "output_type": "stream",
     "text": [
      "'Problem with arange in float is that it\n",
      "      is generally not possible to predict the number\n",
      "      of elements obtained, due to the finite \n",
      "      floating point precision.\n",
      "      So, we use linspace\n",
      "      \n"
     ]
    }
   ],
   "source": [
    "# Creating a sequence of numbers.\n",
    "#Arange function, takes start,stop & step as arguments\n",
    "a = np.arange( 10, 30, 5 )\n",
    "b = np.arange( 0, 2, 0.3 ) \n",
    "b\n",
    "print('''Problem with arange in float is that it\n",
    "      is generally not possible to predict the number\n",
    "      of elements obtained, due to the finite \n",
    "      floating point precision.\n",
    "      So, we use linspace\n",
    "      ''')"
   ]
  },
  {
   "cell_type": "code",
   "execution_count": 25,
   "metadata": {},
   "outputs": [
    {
     "data": {
      "text/plain": [
       "array([0.        , 0.06346652, 0.12693304, 0.19039955, 0.25386607,\n",
       "       0.31733259, 0.38079911, 0.44426563, 0.50773215, 0.57119866,\n",
       "       0.63466518, 0.6981317 , 0.76159822, 0.82506474, 0.88853126,\n",
       "       0.95199777, 1.01546429, 1.07893081, 1.14239733, 1.20586385,\n",
       "       1.26933037, 1.33279688, 1.3962634 , 1.45972992, 1.52319644,\n",
       "       1.58666296, 1.65012947, 1.71359599, 1.77706251, 1.84052903,\n",
       "       1.90399555, 1.96746207, 2.03092858, 2.0943951 , 2.15786162,\n",
       "       2.22132814, 2.28479466, 2.34826118, 2.41172769, 2.47519421,\n",
       "       2.53866073, 2.60212725, 2.66559377, 2.72906028, 2.7925268 ,\n",
       "       2.85599332, 2.91945984, 2.98292636, 3.04639288, 3.10985939,\n",
       "       3.17332591, 3.23679243, 3.30025895, 3.36372547, 3.42719199,\n",
       "       3.4906585 , 3.55412502, 3.61759154, 3.68105806, 3.74452458,\n",
       "       3.8079911 , 3.87145761, 3.93492413, 3.99839065, 4.06185717,\n",
       "       4.12532369, 4.1887902 , 4.25225672, 4.31572324, 4.37918976,\n",
       "       4.44265628, 4.5061228 , 4.56958931, 4.63305583, 4.69652235,\n",
       "       4.75998887, 4.82345539, 4.88692191, 4.95038842, 5.01385494,\n",
       "       5.07732146, 5.14078798, 5.2042545 , 5.26772102, 5.33118753,\n",
       "       5.39465405, 5.45812057, 5.52158709, 5.58505361, 5.64852012,\n",
       "       5.71198664, 5.77545316, 5.83891968, 5.9023862 , 5.96585272,\n",
       "       6.02931923, 6.09278575, 6.15625227, 6.21971879, 6.28318531])"
      ]
     },
     "execution_count": 25,
     "metadata": {},
     "output_type": "execute_result"
    }
   ],
   "source": [
    "from numpy import pi\n",
    "\n",
    "x = np.linspace( 0, 2*pi, 100 ) \n",
    "f = np.sin(x)\n",
    "x"
   ]
  },
  {
   "cell_type": "markdown",
   "metadata": {},
   "source": [
    "## Printing Arrays."
   ]
  },
  {
   "cell_type": "code",
   "execution_count": 27,
   "metadata": {},
   "outputs": [
    {
     "name": "stdout",
     "output_type": "stream",
     "text": [
      "a is: \n",
      "\n",
      "[0 1 2 3 4 5]\n",
      "b is: \n",
      "\n",
      "[[ 0  1  2]\n",
      " [ 3  4  5]\n",
      " [ 6  7  8]\n",
      " [ 9 10 11]]\n",
      "c is: \n",
      "\n",
      "[[[ 0  1  2  3]\n",
      "  [ 4  5  6  7]\n",
      "  [ 8  9 10 11]]\n",
      "\n",
      " [[12 13 14 15]\n",
      "  [16 17 18 19]\n",
      "  [20 21 22 23]]]\n"
     ]
    }
   ],
   "source": [
    "#Printing 1d, 2d & 3d arrays.\n",
    "a = np.arange(6)\n",
    "print(\"a is: \\n\")\n",
    "print(a)\n",
    "b = np.arange(12).reshape(4,3)    #2d\n",
    "print(\"b is: \\n\")\n",
    "print(b)\n",
    "c = np.arange(24).reshape(2,3,4)  #3d\n",
    "print(\"c is: \\n\")\n",
    "print(c)"
   ]
  },
  {
   "cell_type": "markdown",
   "metadata": {},
   "source": [
    "## Basic Operations"
   ]
  },
  {
   "cell_type": "code",
   "execution_count": 31,
   "metadata": {},
   "outputs": [
    {
     "name": "stdout",
     "output_type": "stream",
     "text": [
      "[ True  True False False]\n",
      "Element wise multiplication \n",
      "  [[2 0]\n",
      " [0 4]]\n",
      "Matrix product \n",
      " [[5 4]\n",
      " [3 4]]\n",
      "Matrix product \n",
      "  [[5 4]\n",
      " [3 4]]\n"
     ]
    }
   ],
   "source": [
    "a = np.array( [20,30,40,50] )\n",
    "\n",
    "print(a < 35)\n",
    "A = np.array( [[1,1],[0,1]] )\n",
    "               \n",
    "\n",
    "B = np.array( [[2,0],[3,4]] )\n",
    "\n",
    "print(\"Element wise multiplication \\n \", A *B)\n",
    "\n",
    "print(\"Matrix product \\n\", A@B)\n",
    "print(\"Matrix product \\n \",A.dot(B))"
   ]
  },
  {
   "cell_type": "code",
   "execution_count": 34,
   "metadata": {},
   "outputs": [
    {
     "name": "stdout",
     "output_type": "stream",
     "text": [
      "Inplace:\n",
      " [[3 3 3]\n",
      " [3 3 3]]\n"
     ]
    }
   ],
   "source": [
    "'''\n",
    "Some operations, such as += and *=, \n",
    "act in place to modify an existing array\n",
    "rather than create a new one.\n",
    "'''\n",
    "\n",
    "a = np.ones((2,3), dtype=int)\n",
    "b = np.random.random((2,3))\n",
    "a *= 3\n",
    "print(\"Inplace:\\n\", a)"
   ]
  },
  {
   "cell_type": "code",
   "execution_count": 36,
   "metadata": {},
   "outputs": [
    {
     "name": "stdout",
     "output_type": "stream",
     "text": [
      "type of b is: float64\n",
      "[1.         2.57079633 4.14159265]\n",
      "type of c is:  float64\n"
     ]
    }
   ],
   "source": [
    "#upcasting - When operating with arrays of different types, the type of the resulting array corresponds to the more general or precise one \n",
    "\n",
    "a = np.ones(3, dtype=np.int32)\n",
    "b = np.linspace(0,pi,3)\n",
    "print(\"type of b is:\",b.dtype.name)\n",
    "\n",
    "c = a+b\n",
    "print(c)\n",
    "print(\"type of c is: \",c.dtype.name)"
   ]
  },
  {
   "cell_type": "code",
   "execution_count": 44,
   "metadata": {},
   "outputs": [
    {
     "name": "stdout",
     "output_type": "stream",
     "text": [
      "A is: \n",
      " [[0.49668532 0.29561386 0.06556927]\n",
      " [0.97430843 0.59547353 0.8733602 ]]\n",
      "------------------\n",
      "Sum = 3.301011, Min = 0.065569, Max = 0.974308\n"
     ]
    }
   ],
   "source": [
    "#Unary Operations are all methods of ndarray class.\n",
    "\n",
    "a = np.random.random((2,3))\n",
    "print(\"A is: \\n\",a)\n",
    "print(\"------------------\")\n",
    "print(\"Sum = %f, Min = %f, Max = %f\" % (a.sum(),a.min(),a.max()))"
   ]
  },
  {
   "cell_type": "markdown",
   "metadata": {},
   "source": [
    "## Universal Functions"
   ]
  },
  {
   "cell_type": "code",
   "execution_count": 50,
   "metadata": {},
   "outputs": [
    {
     "name": "stdout",
     "output_type": "stream",
     "text": [
      "[0 1 2]\n"
     ]
    },
    {
     "data": {
      "text/plain": [
       "array([0.        , 1.        , 1.41421356])"
      ]
     },
     "execution_count": 50,
     "metadata": {},
     "output_type": "execute_result"
    }
   ],
   "source": [
    "'''NumPy provides familiar mathematical functions\n",
    "such as sin, cos, and exp. In NumPy,\n",
    "these are called “universal functions”(ufunc).\n",
    "'''\n",
    "B = np.arange(3)\n",
    "print(B)\n",
    "\n",
    "np.sqrt(B) #square root"
   ]
  },
  {
   "cell_type": "markdown",
   "metadata": {},
   "source": [
    "## Indexing, Slicing, Iterating"
   ]
  },
  {
   "cell_type": "code",
   "execution_count": 55,
   "metadata": {},
   "outputs": [
    {
     "name": "stdout",
     "output_type": "stream",
     "text": [
      "a is:  [-1000     1 -1000   243 -1000  3125  7776 16807 32768 59049]\n",
      "Reverse of a is: \n",
      " [-1000     1 -1000   243 -1000  3125  7776 16807 32768 59049]\n"
     ]
    }
   ],
   "source": [
    "a = np.arange(10) ** 5\n",
    "\n",
    "a[:6:2] = -1000\n",
    "print(\"a is: \",a)\n",
    "\n",
    "#Reversing a\n",
    "a[: : -1]\n",
    "print(\"Reverse of a is: \\n\",a)"
   ]
  },
  {
   "cell_type": "code",
   "execution_count": 67,
   "metadata": {},
   "outputs": [
    {
     "name": "stdout",
     "output_type": "stream",
     "text": [
      "[[ 0  1  2  3]\n",
      " [10 11 12 13]\n",
      " [20 21 22 23]\n",
      " [30 31 32 33]\n",
      " [40 41 42 43]]\n",
      "Example: \n",
      " [[10 11 12 13]\n",
      " [20 21 22 23]]\n",
      "Example of using ... \n",
      "\n",
      "[[100 101 102]\n",
      " [110 112 113]]\n",
      "....another example\n",
      "[[  2  13]\n",
      " [102 113]]\n",
      "Example for using flat to iterate over all elements \n",
      "\n",
      "0\n",
      "1\n",
      "2\n",
      "3\n",
      "10\n",
      "11\n",
      "12\n",
      "13\n",
      "20\n",
      "21\n",
      "22\n",
      "23\n",
      "30\n",
      "31\n",
      "32\n",
      "33\n",
      "40\n",
      "41\n",
      "42\n",
      "43\n"
     ]
    }
   ],
   "source": [
    "def f(x,y):\n",
    "    return 10*x+y \n",
    "\n",
    "b = np.fromfunction(f,(5,4),dtype=int)\n",
    "print(b)\n",
    "\n",
    "print(\"Example: \\n\",b[1:3, : ]  )\n",
    "\n",
    "\n",
    "'''\n",
    "The dots (...) represent as many colons \n",
    "as needed to produce a complete indexing tuple. \n",
    "For example, if x is an array with 5 axes, then\n",
    "x[1,2,...] is equivalent to x[1,2,:,:,:]\n",
    "'''\n",
    "print(\"Example of using ... \\n\")\n",
    "\n",
    "c = np.array( [[[  0,  1,  2],[ 10, 12, 13]],[[100,101,102], [110,112,113]]])\n",
    "\n",
    "print(c[1,...])\n",
    "\n",
    "print(\"....another example\")\n",
    "\n",
    "print(c[...,2])\n",
    "\n",
    "#\"Flat attribute is used as an iterator over all the elements of the array\"\n",
    "print(\"Example for using flat to iterate over all elements \\n\")\n",
    "for element in b.flat:\n",
    "    print(element)"
   ]
  },
  {
   "cell_type": "markdown",
   "metadata": {},
   "source": [
    "## Shape Manipulation"
   ]
  },
  {
   "cell_type": "code",
   "execution_count": 79,
   "metadata": {},
   "outputs": [
    {
     "name": "stdout",
     "output_type": "stream",
     "text": [
      "Ravel example: [6. 1. 3. 5. 2. 3. 3. 2. 2. 9. 4. 9.]\n",
      "-------------\n",
      "Transpose of the matrix [[6. 2. 2.]\n",
      " [1. 3. 9.]\n",
      " [3. 3. 4.]\n",
      " [5. 2. 9.]]\n",
      "Reshape\n",
      " [[6. 1. 3. 5.]\n",
      " [2. 3. 3. 2.]\n",
      " [2. 9. 4. 9.]]\n"
     ]
    }
   ],
   "source": [
    "#Ravel() returns the array, flattened.\n",
    "a = np.floor(10*np.random.random((3,4)))\n",
    "\n",
    "print(\"Ravel example:\",a.ravel())\n",
    "\n",
    "print(\"-------------\")\n",
    "\n",
    "print(\"Transpose of the matrix\",a.T)\n",
    "\n",
    "'''\n",
    "The reshape function returns its argument with a modified shape, \n",
    "whereas the ndarray.resize method modifies the array itself:\n",
    "\n",
    "'''\n",
    "print(\"Reshape\\n\",a.reshape(3,-1))"
   ]
  },
  {
   "cell_type": "markdown",
   "metadata": {},
   "source": [
    "## Stacking together different arrays"
   ]
  },
  {
   "cell_type": "code",
   "execution_count": 83,
   "metadata": {},
   "outputs": [
    {
     "name": "stdout",
     "output_type": "stream",
     "text": [
      "Vstack:\n",
      " [[6. 9.]\n",
      " [4. 6.]\n",
      " [3. 5.]\n",
      " [0. 9.]]\n",
      "hstack:\n",
      " [[6. 9. 3. 5.]\n",
      " [4. 6. 0. 9.]]\n"
     ]
    }
   ],
   "source": [
    "a = np.floor(10*np.random.random((2,2)))\n",
    "b = np.floor(10*np.random.random((2,2)))\n",
    "print(\"Vstack:\\n\", np.vstack((a,b)))\n",
    "\n",
    "print(\"hstack:\\n\", np.hstack((a,b)))\n",
    "\n",
    "#similarly, r_ & c_ is for stacking similar to vstack & hstack for more than two dimensions"
   ]
  },
  {
   "cell_type": "code",
   "execution_count": 85,
   "metadata": {},
   "outputs": [
    {
     "data": {
      "text/plain": [
       "[array([[7., 9., 9.],\n",
       "        [1., 4., 9.]]), array([[2.],\n",
       "        [6.]]), array([[0., 7., 8., 5., 8., 3., 5., 9.],\n",
       "        [2., 7., 2., 7., 1., 3., 5., 2.]])]"
      ]
     },
     "execution_count": 85,
     "metadata": {},
     "output_type": "execute_result"
    }
   ],
   "source": [
    "#hsplit splits an array into smaller arrays.\n",
    "a = np.floor(10*np.random.random((2,12)))\n",
    "np.hsplit(a,(3,4)) # Split a after the third and the fourth column"
   ]
  },
  {
   "cell_type": "markdown",
   "metadata": {},
   "source": [
    "## Copies and views"
   ]
  },
  {
   "cell_type": "code",
   "execution_count": 99,
   "metadata": {},
   "outputs": [
    {
     "name": "stdout",
     "output_type": "stream",
     "text": [
      "is b & a same? True\n",
      "is c & a same? False\n",
      "c base is a? True\n",
      "copy func False\n",
      "base of d is also different, check here: False\n"
     ]
    }
   ],
   "source": [
    "#Simple assignments make no copy of array objects or of their data.\n",
    "\n",
    "a = np.arange(12)\n",
    "b=a #new object is not created\n",
    "print(\"is b & a same?\", b is a)\n",
    "    \n",
    "#Python passes mutable objects as references, so function calls make no copy.\n",
    "#The view method creates a new array object that looks at the same data.\n",
    "c = a.view()\n",
    "print(\"is c & a same?\",c is a)\n",
    "print(\"c base is a?\",c.base is a)\n",
    "\n",
    "#slicing an array always returns a view of it. \n",
    "#Copy makes a complete copy of the array and its data\n",
    "\n",
    "d = a.copy()\n",
    "print(\"copy func\", d is a)\n",
    "print(\"base of d is also different, check here:\", d is a)"
   ]
  },
  {
   "cell_type": "code",
   "execution_count": 101,
   "metadata": {},
   "outputs": [
    {
     "data": {
      "text/plain": [
       "array([ 1,  1,  9, 64, 25])"
      ]
     },
     "execution_count": 101,
     "metadata": {},
     "output_type": "execute_result"
    }
   ],
   "source": [
    "#another example of indexing\n",
    "a = np.arange(12)**2  \n",
    "i = np.array( [ 1,1,3,8,5 ] )\n",
    "a[i]"
   ]
  },
  {
   "cell_type": "code",
   "execution_count": 124,
   "metadata": {},
   "outputs": [
    {
     "name": "stdout",
     "output_type": "stream",
     "text": [
      "a is: \n",
      " [[ 0  1  2  3]\n",
      " [ 4  5  6  7]\n",
      " [ 8  9 10 11]]\n",
      "---------------\n",
      "[[ 2  5]\n",
      " [ 7 11]]\n",
      "----------------\n",
      "assigning some values to zero: [0 0 2 0 0]\n",
      "----------------\n",
      "first value is overwrriten twice: [2 1 3 3 4]\n"
     ]
    }
   ],
   "source": [
    "#few more examples\n",
    "a = np.arange(12).reshape(3,4)\n",
    "print(\"a is: \\n\",a)\n",
    "i = np.array( [ [0,1],[1,2] ] )\n",
    "j = np.array( [ [2,1],[3,3] ] )\n",
    "print(\"---------------\")\n",
    "print(a[i,j])\n",
    "print(\"----------------\")\n",
    "#using indexing as a target to assign to:\n",
    "a = np.arange(5)\n",
    "a[[1,3,4]] = 0\n",
    "print(\"assigning some values to zero:\",a)\n",
    "print(\"----------------\")\n",
    "a = np.arange(5)\n",
    "a[[0,0,2]]=[1,2,3]\n",
    "print(\"first value is overwrriten twice:\",a)"
   ]
  },
  {
   "cell_type": "code",
   "execution_count": 126,
   "metadata": {},
   "outputs": [
    {
     "name": "stdout",
     "output_type": "stream",
     "text": [
      "Boolean indexing: \n",
      " [ 6  7  8  9 10 11]\n",
      "Selecting by boolean indexing:\n",
      " [[ 4  5  6  7]\n",
      " [ 8  9 10 11]]\n"
     ]
    }
   ],
   "source": [
    "#boolean indexing\n",
    "a = np.arange(12).reshape(3,4)\n",
    "b = a > 5\n",
    "print(\"Boolean indexing: \\n\", a[b])\n",
    "\n",
    "#boolean indexing can be used to select rows as well\n",
    "a = np.arange(12).reshape(3,4)\n",
    "b1 = np.array([False,True,True])  \n",
    "\n",
    "print(\"Selecting by boolean indexing:\\n\",a[b1])"
   ]
  },
  {
   "cell_type": "markdown",
   "metadata": {},
   "source": [
    "## the ix_() function"
   ]
  },
  {
   "cell_type": "code",
   "execution_count": 129,
   "metadata": {},
   "outputs": [
    {
     "name": "stdout",
     "output_type": "stream",
     "text": [
      "a is:\n",
      " [[[2]]\n",
      "\n",
      " [[3]]\n",
      "\n",
      " [[4]]\n",
      "\n",
      " [[5]]]\n",
      "17\n"
     ]
    }
   ],
   "source": [
    "#The ix_ function can be used to combine different vectors so as to obtain the result for each n-uplet.\n",
    "\n",
    "a = np.array([2,3,4,5])\n",
    "b = np.array([8,5,4])\n",
    "c = np.array([5,4,6,8,3])\n",
    "\n",
    "ax,bx,cx = np.ix_(a,b,c)\n",
    "print(\"a is:\\n\",ax)\n",
    "print(a[3]+b[2]*c[4])"
   ]
  },
  {
   "cell_type": "markdown",
   "metadata": {},
   "source": [
    "## Linear Algebra"
   ]
  },
  {
   "cell_type": "code",
   "execution_count": 104,
   "metadata": {},
   "outputs": [
    {
     "name": "stdout",
     "output_type": "stream",
     "text": [
      "inverse of a is: \n",
      " [[-2.   1. ]\n",
      " [ 1.5 -0.5]]\n",
      "Identity vector is:\n",
      " [[1. 0.]\n",
      " [0. 1.]]\n",
      "Trace of u is: \n",
      " 2.0\n",
      "Eigen values are: \n",
      " (array([0.+1.j, 0.-1.j]), array([[0.70710678+0.j        , 0.70710678-0.j        ],\n",
      "       [0.        -0.70710678j, 0.        +0.70710678j]]))\n"
     ]
    }
   ],
   "source": [
    "## linear algebra on arrays. examples\n",
    "a = np.array([[1.0, 2.0], [3.0, 4.0]])\n",
    "\n",
    "print(\"inverse of a is: \\n\",np.linalg.inv(a))\n",
    "\n",
    "# eye represents 'I'\n",
    "#identity vector\n",
    "u = np.eye(2)\n",
    "print(\"Identity vector is:\\n\", u)\n",
    "\n",
    "print(\"Trace of u is: \\n\",np.trace(u))\n",
    "j = np.array([[0.0, -1.0], [1.0, 0.0]])\n",
    "print(\"Eigen values are: \\n\",np.linalg.eig(j))\n",
    "\n"
   ]
  },
  {
   "cell_type": "code",
   "execution_count": 106,
   "metadata": {},
   "outputs": [
    {
     "name": "stdout",
     "output_type": "stream",
     "text": [
      "After deducing the shape autmatically:\n",
      " (2, 5, 3)\n"
     ]
    }
   ],
   "source": [
    "#numpy can automatically reshape the array.\n",
    "a = np.arange(30)\n",
    "a.shape = 2,-1,3 \n",
    "print(\"After deducing the shape autmatically:\\n\",a.shape)"
   ]
  },
  {
   "cell_type": "markdown",
   "metadata": {},
   "source": [
    "## Histograms"
   ]
  },
  {
   "cell_type": "code",
   "execution_count": 108,
   "metadata": {},
   "outputs": [
    {
     "data": {
      "image/png": "[encoded data removed]",
      "text/plain": [
       "<Figure size 432x288 with 1 Axes>"
      ]
     },
     "metadata": {
      "needs_background": "light"
     },
     "output_type": "display_data"
    }
   ],
   "source": [
    "'''\n",
    "The NumPy histogram\n",
    "function applied to an array returns a pair of vectors: \n",
    "the histogram of the array and the vector of bins.\n",
    "'''\n",
    "import matplotlib.pyplot as plt\n",
    "mu, sigma = 2, 0.5\n",
    "v = np.random.normal(mu,sigma,10000)\n",
    "plt.hist(v, bins=50, density=1)\n",
    "plt.show()"
   ]
  },
  {
   "cell_type": "code",
   "execution_count": 112,
   "metadata": {},
   "outputs": [
    {
     "data": {
      "image/png": "[encoded data removed]",
      "text/plain": [
       "<Figure size 432x288 with 1 Axes>"
      ]
     },
     "metadata": {
      "needs_background": "light"
     },
     "output_type": "display_data"
    }
   ],
   "source": [
    "(n, bins) = np.histogram(v, bins=50, density=True)\n",
    "plt.plot(.5*(bins[1:]+bins[:-1]), n)\n",
    "plt.show()"
   ]
  }
 ],
 "metadata": {
  "kernelspec": {
   "display_name": "Python 3",
   "language": "python",
   "name": "python3"
  },
  "language_info": {
   "codemirror_mode": {
    "name": "ipython",
    "version": 3
   },
   "file_extension": ".py",
   "mimetype": "text/x-python",
   "name": "python",
   "nbconvert_exporter": "python",
   "pygments_lexer": "ipython3",
   "version": "3.7.1"
  }
 },
 "nbformat": 4,
 "nbformat_minor": 2
}
